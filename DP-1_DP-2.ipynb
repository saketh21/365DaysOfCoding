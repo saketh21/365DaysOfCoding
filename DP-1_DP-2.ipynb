{
 "cells": [
  {
   "cell_type": "markdown",
   "metadata": {},
   "source": [
    "# Longest Common Subsequence"
   ]
  },
  {
   "cell_type": "markdown",
   "metadata": {},
   "source": [
    "<b>Problem Statement</b>: Given two strings s1 and s2, return the length of their longest common subsequence. If there is no common Subsequence, return 0.\n",
    "\n",
    "<b>Example:</b>\n",
    "\n",
    "s1 = aggtab\n",
    "s2 = gxtxayb\n",
    "\n",
    "Ans: 4\n",
    "\n",
    "<b>Constraints:</b>\n",
    "\n",
    "1. Input Strings consist of lowercase letters only\n",
    "\n",
    "<b>Some Notes:</b>\n",
    "\n",
    "What is a Subsequence?\n",
    "Subsequence of a string is a NEW String generated from the ORIGINAL String with some(can be none) characters deleted without changing the relative order of the remaining characters.\n",
    "\n",
    "Reference: https://leetcode.com/problems/longest-common-subsequence/\n",
    "\n",
    "\n",
    "<b>Questions I had:</b>\n",
    "\n",
    "1. How is it a Dynamic Programming Problem? How do I even know? - May be by solving more problems :P\n",
    "2. So, first thing that comes to mind here is to look for the first common letter and next common letter and so on. Does my mind's pattern recognition actually work? What is the proof? What if there is some sequence that I am not able to see through my eyes? - May be I need to code.\n",
    "3. Ok, So someone told me to use Dynamic Programming. Now what? I need to decompose. So, what's the easiest sub problem that I can solve? - Just think I have only one character in the string.\n",
    "4. So now, someone again told me, just look at the last character, if it matches you have a common subsequence of length 1. Oh.. that's an easy subproblem. Wait, that's it? Just look at the last character, when it matches chop if off and look at the last character of the remaining substring? what if it doesn't match? \n",
    "5. Ok, now what? :-( It doesn't match. What to do- https://www.youtube.com/watch?v=L1fUKbgyAk4 gives a good explanation\n",
    "\n",
    "Good explanation at: https://www.youtube.com/watch?v=ASoaQq66foQ&t=350s\n"
   ]
  },
  {
   "cell_type": "markdown",
   "metadata": {},
   "source": [
    "# Recursive Solution"
   ]
  },
  {
   "cell_type": "code",
   "execution_count": 1,
   "metadata": {},
   "outputs": [],
   "source": [
    "#Recursive solution\n",
    "\n",
    "# Recursive relation: if s1[i] == s2[j] then look for longest common subsequence in s1[0...i-1] and s2[0...j-1]. Remember to add 1!\n",
    "#                     if s1[i] != s2[j] then look for max(longest common subsequence in s1[0...i] and s2[0...j-1],\n",
    "#                                                        longest common subsequence in s1[0...i-1] and s2[0...j] )\n",
    "\n",
    "def helperFunction(s1, s2, len_s1, len_s2):\n",
    "\n",
    "    #Base case\n",
    "    if len_s1 is 0 or len_s2 is 0:\n",
    "        return 0\n",
    "    elif s1[len_s1-1] == s2[len_s2-1]:\n",
    "        return 1+helperFunction(s1, s2, len_s1-1, len_s2-1)\n",
    "    elif s1[len_s1-1] != s2[len_s2-1]:\n",
    "        return max(helperFunction(s1, s2, len_s1, len_s2-1),\n",
    "                    helperFunction(s1, s2, len_s1-1, len_s2))\n",
    "    \n",
    "\n",
    "def getLengthOfLongestCommonSubSequence(s1, s2):\n",
    "    return helperFunction(s1,s2, len(s1), len(s2))\n",
    "    \n",
    "    "
   ]
  },
  {
   "cell_type": "code",
   "execution_count": 2,
   "metadata": {},
   "outputs": [
    {
     "name": "stdout",
     "output_type": "stream",
     "text": [
      "4\n",
      "3\n"
     ]
    }
   ],
   "source": [
    "#Test case:1\n",
    "print(getLengthOfLongestCommonSubSequence('aggtab', 'gxtxayb'))\n",
    "# Test case:2\n",
    "print(getLengthOfLongestCommonSubSequence('ylqpejqbalahwr', 'yrkzavgdmdgtqpg'))"
   ]
  },
  {
   "cell_type": "markdown",
   "metadata": {},
   "source": [
    "# Memoisation"
   ]
  },
  {
   "cell_type": "code",
   "execution_count": 3,
   "metadata": {},
   "outputs": [],
   "source": [
    "# Memoisation\n",
    "def buildTable(s1, s2):\n",
    "    len_s1 = len(s1)\n",
    "    len_s2 = len(s2)\n",
    "    # initialising all cells with zeros\n",
    "    result = [[0 for i in range(len_s2+1)] for j in range(len_s1+1)]\n",
    "    for i in range(1, len_s1+1):\n",
    "        for j in range(1, len_s2+1):\n",
    "            result[i][j] = (1 + result[i-1][j-1]) if s1[i-1] == s2[j-1] else max(result[i][j-1], result[i-1][j])\n",
    "    return result"
   ]
  },
  {
   "cell_type": "code",
   "execution_count": 4,
   "metadata": {},
   "outputs": [],
   "source": [
    "def getLengthOfLongestCommonSubSequence_m(s1, s2):\n",
    "    result = buildTable(s1, s2)\n",
    "    return result[len(s1)][len(s2)]"
   ]
  },
  {
   "cell_type": "markdown",
   "metadata": {},
   "source": [
    "# Finding all Common Subsequences"
   ]
  },
  {
   "cell_type": "code",
   "execution_count": 5,
   "metadata": {},
   "outputs": [],
   "source": [
    "#Reference and explanation: https://www.techiedelight.com/longest-common-subsequence-finding-lcs/\n",
    "def helperFunction(s1, s2, result, m, n):\n",
    "    if m is 0 or n is 0:\n",
    "        return set([''])\n",
    "    elif s1[m-1] == s2[n-1]:\n",
    "        all_sequences = helperFunction(s1, s2, result, m-1, n-1)\n",
    "        all_sequences = set(a+s1[m-1] for a in all_sequences )\n",
    "        return all_sequences\n",
    "    else:\n",
    "        if result[m-1][n] > result[m][n-1]:\n",
    "            return helperFunction(s1, s2, result, m-1,n)\n",
    "        elif result[m][n-1] > result[m-1][n]:\n",
    "            return helperFunction(s1, s2, result, m,n-1)\n",
    "        top_cell_sequences = helperFunction(s1, s2, result, m-1,n)\n",
    "        left_cell_sequences = helperFunction(s1, s2, result, m,n-1)\n",
    "        return top_cell_sequences.union(left_cell_sequences)"
   ]
  },
  {
   "cell_type": "code",
   "execution_count": 6,
   "metadata": {},
   "outputs": [],
   "source": [
    "def getAllLongestCommonSubsequences(s1, s2):\n",
    "    result = buildTable(s1, s2)\n",
    "    sequences = helperFunction(s1, s2, result, len(s1) ,len(s2))\n",
    "    return sequences\n"
   ]
  },
  {
   "cell_type": "code",
   "execution_count": 7,
   "metadata": {},
   "outputs": [],
   "source": [
    "def print_helper_function(s1, s2):\n",
    "    print('Length of Longest Common Subsequence: {} and Sequences are : {}'.\n",
    "      format(getLengthOfLongestCommonSubSequence_m(s1,s2),getAllLongestCommonSubsequences(s1, s2)))"
   ]
  },
  {
   "cell_type": "code",
   "execution_count": 8,
   "metadata": {},
   "outputs": [
    {
     "name": "stdout",
     "output_type": "stream",
     "text": [
      "Length of Longest Common Subsequence: 3 and Sequences are : {'ACC', 'AAC'}\n",
      "Length of Longest Common Subsequence: 3 and Sequences are : {'yqp'}\n"
     ]
    }
   ],
   "source": [
    "#Test case:1\n",
    "s1 = 'AATCC'\n",
    "s2 = 'ACACG'\n",
    "print_helper_function(s1, s2)\n",
    "#Test case:2\n",
    "s1 = 'ylqpejqbalahwr'\n",
    "s2 = 'yrkzavgdmdgtqpg'\n",
    "print_helper_function(s1, s2)"
   ]
  }
 ],
 "metadata": {
  "kernelspec": {
   "display_name": "Python 3",
   "language": "python",
   "name": "python3"
  },
  "language_info": {
   "codemirror_mode": {
    "name": "ipython",
    "version": 3
   },
   "file_extension": ".py",
   "mimetype": "text/x-python",
   "name": "python",
   "nbconvert_exporter": "python",
   "pygments_lexer": "ipython3",
   "version": "3.7.4"
  }
 },
 "nbformat": 4,
 "nbformat_minor": 2
}
