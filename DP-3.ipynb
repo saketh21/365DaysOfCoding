{
 "cells": [
  {
   "cell_type": "markdown",
   "metadata": {},
   "source": [
    "# Longest Common Substring"
   ]
  },
  {
   "cell_type": "markdown",
   "metadata": {},
   "source": [
    "<b>Problem Statement</b>: Given two strings s1 and s2, return the length of their longest common substring. If there is no common string, return 0.\n",
    "\n",
    "<b>Example:</b>\n",
    "\n",
    "s1 = zxabcdezy\n",
    "s2 = yzabcdezx\n",
    "\n",
    "Ans: 6\n",
    "\n",
    "<b>Constraints:</b>\n",
    "\n",
    "1. Input Strings consist of lowercase letters only\n",
    "\n",
    "<b>Some Notes:</b>\n",
    "\n",
    "What is a Substring?\n",
    "A substring is a contiguous sequence of characters within a string. For instance, \"the best of\" is a substring of \"It was the best of times\". This is not to be confused with subsequence, which is a generalization of substring. For example, \"Itwastimes\" is a subsequence of \"It was the best of times\", but not a substring.\n",
    "\n",
    "Reference-Wikipedia :https://en.wikipedia.org/wiki/Substring\n",
    "\n",
    "Very Nice Explanation at : https://www.youtube.com/watch?v=L1fUKbgyAk4\n",
    "\n"
   ]
  },
  {
   "cell_type": "markdown",
   "metadata": {},
   "source": [
    "# Recursive Solution"
   ]
  },
  {
   "cell_type": "code",
   "execution_count": 1,
   "metadata": {},
   "outputs": [],
   "source": [
    "#Recursive solution\n",
    "\n",
    "def helperFunction(s1, s2, len_s1, len_s2, count):\n",
    "\n",
    "    #Base case\n",
    "    if len_s1 is 0 or len_s2 is 0:\n",
    "        return count\n",
    "    if s1[len_s1-1] == s2[len_s2-1]:\n",
    "        count = helperFunction(s1, s2, len_s1-1, len_s2-1,count+1)\n",
    "    count = max(count, \n",
    "                max(helperFunction(s1, s2, len_s1, len_s2 - 1, 0), \n",
    "                    helperFunction(s1, s2, len_s1 - 1, len_s2, 0)));\n",
    "\n",
    "    return count\n",
    "\n",
    "def getLengthOfLongestCommonSubString(s1, s2):\n",
    "    return helperFunction(s1,s2, len(s1), len(s2),0)\n",
    "    \n",
    "    "
   ]
  },
  {
   "cell_type": "code",
   "execution_count": 2,
   "metadata": {},
   "outputs": [
    {
     "name": "stdout",
     "output_type": "stream",
     "text": [
      "4\n"
     ]
    }
   ],
   "source": [
    "#Test case:1\n",
    "print(getLengthOfLongestCommonSubString('ababc', 'babca'))"
   ]
  },
  {
   "cell_type": "markdown",
   "metadata": {},
   "source": [
    "# Memoisation"
   ]
  },
  {
   "cell_type": "code",
   "execution_count": 7,
   "metadata": {},
   "outputs": [],
   "source": [
    "# Memoisation\n",
    "def buildTable(s1, s2):\n",
    "    len_s1 = len(s1)\n",
    "    len_s2 = len(s2)\n",
    "    # initialising all cells with zeros\n",
    "    result = [[0 for i in range(len_s2+1)] for j in range(len_s1+1)]\n",
    "    max_value = 0\n",
    "    for i in range(1, len_s1+1):\n",
    "        for j in range(1, len_s2+1):\n",
    "            result[i][j] = 1 + result[i-1][j-1] if s1[i-1] == s2[j-1] else 0\n",
    "            max_value = max(max_value, result[i][j])\n",
    "    return result,max_value"
   ]
  },
  {
   "cell_type": "code",
   "execution_count": 12,
   "metadata": {},
   "outputs": [],
   "source": [
    "def getLengthOfLongestCommonSubString_m(s1, s2):\n",
    "    result,max_value = buildTable(s1, s2)\n",
    "    return max_value"
   ]
  },
  {
   "cell_type": "code",
   "execution_count": 13,
   "metadata": {},
   "outputs": [
    {
     "name": "stdout",
     "output_type": "stream",
     "text": [
      "abab\n"
     ]
    }
   ],
   "source": [
    "#Test case:1\n",
    "s1 = 'ababc'\n",
    "s2 = 'babca'\n",
    "max_len = getLengthOfLongestCommonSubString_m(s1,s2)\n",
    "# Longest Substring\n",
    "print(s1[0:max_len])"
   ]
  }
 ],
 "metadata": {
  "kernelspec": {
   "display_name": "Python 3",
   "language": "python",
   "name": "python3"
  },
  "language_info": {
   "codemirror_mode": {
    "name": "ipython",
    "version": 3
   },
   "file_extension": ".py",
   "mimetype": "text/x-python",
   "name": "python",
   "nbconvert_exporter": "python",
   "pygments_lexer": "ipython3",
   "version": "3.7.4"
  }
 },
 "nbformat": 4,
 "nbformat_minor": 2
}
