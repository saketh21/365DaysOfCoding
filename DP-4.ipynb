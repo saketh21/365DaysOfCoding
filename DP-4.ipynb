{
 "cells": [
  {
   "cell_type": "markdown",
   "metadata": {},
   "source": [
    "# Finding Longest Palindromic Subsequence"
   ]
  },
  {
   "cell_type": "markdown",
   "metadata": {},
   "source": [
    "For all Dynamic Programming Problems, coming up with the subproblem is kind of difficult.So, one tip here is to think of the brute force approach and see if that gives a hint to the subproblem.\n",
    "\n",
    "So, the brute force approach here is to list all the possible subsequences and then filter the palindromes and then find the one with greatest length."
   ]
  },
  {
   "cell_type": "markdown",
   "metadata": {},
   "source": [
    "# Brute Force Approach"
   ]
  },
  {
   "cell_type": "code",
   "execution_count": 49,
   "metadata": {},
   "outputs": [],
   "source": [
    "def find_subsequences(s):\n",
    "    set_s = set()\n",
    "    # Iterating over entire string\n",
    "    for i in range(len(s)):\n",
    "        for j in range(len(s), -1, -1):\n",
    "            #Substring from i to j\n",
    "            sub_string = s[i:j]\n",
    "            if sub_string not in set_s:\n",
    "                set_s.add(sub_string)\n",
    "                \n",
    "            for k in range(1, len(sub_string)):\n",
    "                temp = sub_string\n",
    "                new_substring = temp[:k] + temp[(k+1):]\n",
    "                #print('Substring is {} and new substring after replacing {}th character is: {}'.format(temp, k, new_substring))\n",
    "                if new_substring not in set_s:\n",
    "                    set_s.add(new_substring)\n",
    "                    \n",
    "    return set_s\n",
    "    "
   ]
  },
  {
   "cell_type": "code",
   "execution_count": 75,
   "metadata": {},
   "outputs": [],
   "source": [
    "\n",
    "def brute_force_lps(s):\n",
    "    all_subsequences = [s for s in find_subsequences('agbdba') if len(s.strip()) > 0 ]\n",
    "    palindromic_seq = []\n",
    "    is_palindrome = True\n",
    "    max_len = 0\n",
    "    for s in all_subsequences:\n",
    "        for i in range(0, len(s)//2):\n",
    "            if s[i] != s[len(s)-i-1]:\n",
    "                is_palindrome = False\n",
    "        if is_palindrome:\n",
    "            if len(s) > max_len:\n",
    "                max_len = len(s)\n",
    "            palindromic_seq.append(s)\n",
    "    return max_len, palindromic_seq\n",
    "            \n",
    "        "
   ]
  },
  {
   "cell_type": "code",
   "execution_count": 73,
   "metadata": {},
   "outputs": [],
   "source": [
    "def longestPalindromeSubseq(s):\n",
    "        len_s = len(s)\n",
    "        result = [[0 for i in range(len_s)] for j in range(len_s)]\n",
    "        # Implies starting and ending at the same index\n",
    "        for i in range(len_s):\n",
    "            result[i][i] = 1 \n",
    "            \n",
    "        for k in range(1, len_s):\n",
    "            for i in range(0, len_s-k): \n",
    "                j = i+k\n",
    "                if s[i] == s[j]:\n",
    "                    result[i][j] = 2 + result[i+1][j-1]\n",
    "                else:\n",
    "                    result[i][j] = max(result[i+1][j], result[i][j-1])\n",
    "            \n",
    "        return result"
   ]
  },
  {
   "cell_type": "code",
   "execution_count": 78,
   "metadata": {},
   "outputs": [
    {
     "name": "stdout",
     "output_type": "stream",
     "text": [
      "By Brute Force:  Length is 5\n",
      "By Dynamic Programming:  Length is 5\n"
     ]
    }
   ],
   "source": [
    "s = 'agbdba'\n",
    "\n",
    "# Using Brute force search\n",
    "max_len, p_seq = brute_force_lps(s)\n",
    "print('By Brute Force:  Length is {}'.format(max_len))\n",
    "# Using Dynamic Programming\n",
    "result = longestPalindromeSubseq(s)\n",
    "max_len = result[0][len(s)-1]\n",
    "print('By Dynamic Programming:  Length is {}'.format(max_len))"
   ]
  }
 ],
 "metadata": {
  "kernelspec": {
   "display_name": "Python 3",
   "language": "python",
   "name": "python3"
  },
  "language_info": {
   "codemirror_mode": {
    "name": "ipython",
    "version": 3
   },
   "file_extension": ".py",
   "mimetype": "text/x-python",
   "name": "python",
   "nbconvert_exporter": "python",
   "pygments_lexer": "ipython3",
   "version": "3.7.4"
  }
 },
 "nbformat": 4,
 "nbformat_minor": 2
}
