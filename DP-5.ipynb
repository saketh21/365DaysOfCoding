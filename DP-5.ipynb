{
 "cells": [
  {
   "cell_type": "markdown",
   "metadata": {},
   "source": [
    "# Longest Repeated Subsequence"
   ]
  },
  {
   "cell_type": "code",
   "execution_count": 6,
   "metadata": {},
   "outputs": [],
   "source": [
    "# Memoisation\n",
    "def buildTable(s1, s2):\n",
    "    len_s1 = len(s1)\n",
    "    len_s2 = len(s2)\n",
    "    # initialising all cells with zeros\n",
    "    result = [[0 for i in range(len_s2+1)] for j in range(len_s1+1)]\n",
    "    for i in range(1, len_s1+1):\n",
    "        for j in range(1, len_s2+1):\n",
    "            result[i][j] = (1 + result[i-1][j-1]) if s1[i-1] == s2[j-1] and i != j \\\n",
    "            else max(result[i][j-1], result[i-1][j])\n",
    "    return result"
   ]
  },
  {
   "cell_type": "code",
   "execution_count": 13,
   "metadata": {},
   "outputs": [],
   "source": [
    "#Reference and explanation: https://www.techiedelight.com/longest-common-subsequence-finding-lcs/\n",
    "def helperFunction(s1, s2, result, m, n):\n",
    "    if m is 0 or n is 0:\n",
    "        return set([''])\n",
    "    elif s1[m-1] == s2[n-1] and m != n:\n",
    "        all_sequences = helperFunction(s1, s2, result, m-1, n-1)\n",
    "        all_sequences = set(a+s1[m-1] for a in all_sequences )\n",
    "        return all_sequences\n",
    "    else:\n",
    "        if result[m-1][n] > result[m][n-1]:\n",
    "            return helperFunction(s1, s2, result, m-1,n)\n",
    "        elif result[m][n-1] > result[m-1][n]:\n",
    "            return helperFunction(s1, s2, result, m,n-1)\n",
    "        top_cell_sequences = helperFunction(s1, s2, result, m-1,n)\n",
    "        left_cell_sequences = helperFunction(s1, s2, result, m,n-1)\n",
    "        return top_cell_sequences.union(left_cell_sequences)"
   ]
  },
  {
   "cell_type": "code",
   "execution_count": 10,
   "metadata": {},
   "outputs": [],
   "source": [
    "def getAllLongestCommonSubsequences(s1, s2):\n",
    "    result = buildTable(s1, s2)\n",
    "    sequences = helperFunction(s1, s2, result, len(s1) ,len(s2))\n",
    "    return sequences"
   ]
  },
  {
   "cell_type": "code",
   "execution_count": 11,
   "metadata": {},
   "outputs": [],
   "source": [
    "def print_helper_function(s1, s2):\n",
    "    print('Length of Longest Common Subsequence: {} and Sequences are : {}'.\n",
    "      format(getLengthOfLongestCommonSubSequence_m(s1,s2),getAllLongestCommonSubsequences(s1, s2)))"
   ]
  },
  {
   "cell_type": "code",
   "execution_count": 14,
   "metadata": {},
   "outputs": [
    {
     "name": "stdout",
     "output_type": "stream",
     "text": [
      "Length of Longest Common Subsequence: 4 and Sequences are : {'ATCG'}\n"
     ]
    }
   ],
   "source": [
    "s = 'ATACTCGGA'\n",
    "print_helper_function(s, s)"
   ]
  }
 ],
 "metadata": {
  "kernelspec": {
   "display_name": "Python 3",
   "language": "python",
   "name": "python3"
  },
  "language_info": {
   "codemirror_mode": {
    "name": "ipython",
    "version": 3
   },
   "file_extension": ".py",
   "mimetype": "text/x-python",
   "name": "python",
   "nbconvert_exporter": "python",
   "pygments_lexer": "ipython3",
   "version": "3.7.4"
  }
 },
 "nbformat": 4,
 "nbformat_minor": 2
}
