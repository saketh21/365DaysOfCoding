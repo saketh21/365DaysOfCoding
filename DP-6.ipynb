{
 "cells": [
  {
   "cell_type": "markdown",
   "metadata": {},
   "source": [
    "# Longest Common Supersequence"
   ]
  },
  {
   "cell_type": "code",
   "execution_count": 44,
   "metadata": {},
   "outputs": [],
   "source": [
    "def build_lcs_super_table(s1, s2):\n",
    "    m = len(s1)\n",
    "    n = len(s2)\n",
    "    \n",
    "    result = [[0 for j in range(n+1)] for i in range(m+1)]\n",
    "    for i in range(m+1):\n",
    "        result[i][0] = i\n",
    "    for j in range(n+1):\n",
    "        result[0][j] = j\n",
    "    for i in range(1,m+1):\n",
    "        for j in range(1,n+1):\n",
    "            if s1[i-1] == s2[j-1]:\n",
    "                result[i][j] = result[i-1][j-1]+1\n",
    "            elif s1[i-1] != s2[j-1]:\n",
    "                result[i][j] = min(result[i][j-1]+1, result[i-1][j]+1)\n",
    "    return result[m][n]\n",
    "    "
   ]
  },
  {
   "cell_type": "code",
   "execution_count": 45,
   "metadata": {},
   "outputs": [
    {
     "data": {
      "text/plain": [
       "9"
      ]
     },
     "execution_count": 45,
     "metadata": {},
     "output_type": "execute_result"
    }
   ],
   "source": [
    "build_lcs_super_table('ABCBDAB','BDCABA')"
   ]
  }
 ],
 "metadata": {
  "kernelspec": {
   "display_name": "Python 3",
   "language": "python",
   "name": "python3"
  },
  "language_info": {
   "codemirror_mode": {
    "name": "ipython",
    "version": 3
   },
   "file_extension": ".py",
   "mimetype": "text/x-python",
   "name": "python",
   "nbconvert_exporter": "python",
   "pygments_lexer": "ipython3",
   "version": "3.7.4"
  }
 },
 "nbformat": 4,
 "nbformat_minor": 2
}
