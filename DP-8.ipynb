{
 "cells": [
  {
   "cell_type": "markdown",
   "metadata": {},
   "source": [
    "# Finding minimum cost to reach last cell of a matrix from first cell"
   ]
  },
  {
   "cell_type": "code",
   "execution_count": 33,
   "metadata": {},
   "outputs": [],
   "source": [
    "def find_min_cost(list_input):\n",
    "    result = list_input\n",
    "    rows = len(list_input)\n",
    "    columns = len(list_input[0])\n",
    "    for i in range(rows):\n",
    "        for j in range(columns):\n",
    "            if i == 0 and j > 0:\n",
    "                result[0][j] += list_input[0][j-1]\n",
    "            elif j == 0 and i > 0:\n",
    "                result[i][0] += list_input[i-1][0]\n",
    "            elif i > 0 and j > 0:\n",
    "                result[i][j] += min(result[i-1][j], result[i][j-1])\n",
    "    return result\n",
    "                \n",
    "    "
   ]
  },
  {
   "cell_type": "code",
   "execution_count": 39,
   "metadata": {},
   "outputs": [
    {
     "name": "stdout",
     "output_type": "stream",
     "text": [
      "36\n"
     ]
    }
   ],
   "source": [
    "list_input = [[4,7,8,6,4],[6,7,3,9,2],[3,8,1,2,4],[7,1,7,3,7],[2,9,8,9,3]]\n",
    "result = find_min_cost(list_input)\n",
    "rows = len(list_input)\n",
    "columns = len(list_input[0])\n",
    "print(result[rows-1][columns-1])"
   ]
  }
 ],
 "metadata": {
  "kernelspec": {
   "display_name": "Python 3",
   "language": "python",
   "name": "python3"
  },
  "language_info": {
   "codemirror_mode": {
    "name": "ipython",
    "version": 3
   },
   "file_extension": ".py",
   "mimetype": "text/x-python",
   "name": "python",
   "nbconvert_exporter": "python",
   "pygments_lexer": "ipython3",
   "version": "3.7.4"
  }
 },
 "nbformat": 4,
 "nbformat_minor": 2
}
