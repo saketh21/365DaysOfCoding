{
 "cells": [
  {
   "cell_type": "markdown",
   "metadata": {},
   "source": [
    "# Wildcard Pattern matching"
   ]
  },
  {
   "cell_type": "code",
   "execution_count": 31,
   "metadata": {},
   "outputs": [],
   "source": [
    "def check_pattern_in_string(input_s, pattern):\n",
    "    result = [[False for i in range(len(pattern)+1)] for j in range(len(input_s)+1)]\n",
    "    result[0][0] = True\n",
    "    for j in range(len(pattern)+1):\n",
    "        if pattern[j-1] == '*':\n",
    "            result[0][j] = result[0][j-1]\n",
    "    for i in range(1,len(input_s)+1):\n",
    "        for j in range(1,len(pattern)+1):\n",
    "            if input_s[i-1] == pattern[j-1]:\n",
    "                result[i][j] = result[i-1][j-1]\n",
    "            elif pattern[j-1] == '*':\n",
    "                result[i][j] = result[i-1][j] or result[i][j-1]\n",
    "            elif pattern[j-1] == '?':\n",
    "                result[i][j] = result[i-1][j-1]\n",
    "    return result[len(input_s)][len(pattern)]\n",
    "            \n",
    "                "
   ]
  },
  {
   "cell_type": "code",
   "execution_count": 32,
   "metadata": {},
   "outputs": [
    {
     "data": {
      "text/plain": [
       "False"
      ]
     },
     "execution_count": 32,
     "metadata": {},
     "output_type": "execute_result"
    }
   ],
   "source": [
    "check_pattern_in_string('xyxzzxy','x***x')"
   ]
  }
 ],
 "metadata": {
  "kernelspec": {
   "display_name": "Python 3",
   "language": "python",
   "name": "python3"
  },
  "language_info": {
   "codemirror_mode": {
    "name": "ipython",
    "version": 3
   },
   "file_extension": ".py",
   "mimetype": "text/x-python",
   "name": "python",
   "nbconvert_exporter": "python",
   "pygments_lexer": "ipython3",
   "version": "3.7.4"
  }
 },
 "nbformat": 4,
 "nbformat_minor": 2
}
