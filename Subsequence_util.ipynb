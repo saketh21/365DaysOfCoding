{
 "cells": [
  {
   "cell_type": "code",
   "execution_count": 2,
   "metadata": {},
   "outputs": [
    {
     "name": "stdout",
     "output_type": "stream",
     "text": [
      "Length of Longest common Subsequence: 3 and Sequences are : {'yqp'}\n",
      "Length of Longest repeated Subsequence: 4 and Sequences are : {'ATCG'}\n",
      "Common Palindromic Sequences are: {'BABCBAB', 'BACBCAB'}\n"
     ]
    }
   ],
   "source": [
    "class Subsequence:\n",
    "    \n",
    "    def __init__(self, string1, string2, problem_type):\n",
    "        self.s1 = string1\n",
    "        self.s2 = string2\n",
    "        self.problem_type = problem_type\n",
    "    \n",
    "    # should ask if user needs common subsequence or repeated subsequence\n",
    "    def build_dp_table(self):\n",
    "        len_s1 = len(self.s1)\n",
    "        len_s2 = len(self.s2)\n",
    "        # initialising all cells with zeros\n",
    "        result = [[0 for i in range(len_s2+1)] for j in range(len_s1+1)]\n",
    "        for i in range(1, len_s1+1):\n",
    "            for j in range(1, len_s2+1):\n",
    "                if self.problem_type == 'common':\n",
    "                    result[i][j] = (1 + result[i-1][j-1]) if self.s1[i-1] == self.s2[j-1] else max(result[i][j-1], result[i-1][j])\n",
    "                elif self.problem_type == 'repeated':\n",
    "                    result[i][j] = (1 + result[i-1][j-1]) if (self.s1[i-1] == self.s2[j-1] and i != j) else max(result[i][j-1], result[i-1][j])\n",
    "        return result\n",
    "    \n",
    "    def getLengthOfLongestSubSequence(self):\n",
    "        result = self.build_dp_table()\n",
    "        return result[len(self.s1)][len(self.s2)]\n",
    "    \n",
    "    \n",
    "    def helperFunction(self,result, m, n):\n",
    "        s1 = self.s1\n",
    "        s2 = self.s2\n",
    "        \n",
    "        if self.problem_type == 'repeated':\n",
    "            compare_val = (m != n)\n",
    "        elif self.problem_type == 'common':\n",
    "            compare_val = True\n",
    "        if m is 0 or n is 0:\n",
    "            return set([''])\n",
    "        elif (s1[m-1] == s2[n-1]) and compare_val:\n",
    "            all_sequences = self.helperFunction(result, m-1, n-1)\n",
    "            all_sequences = set(a+s1[m-1] for a in all_sequences )\n",
    "            return all_sequences\n",
    "        else:\n",
    "            if result[m-1][n] > result[m][n-1]:\n",
    "                return self.helperFunction(result, m-1,n)\n",
    "            elif result[m][n-1] > result[m-1][n]:\n",
    "                return self.helperFunction(result, m,n-1)\n",
    "            top_cell_sequences = self.helperFunction(result, m-1,n)\n",
    "            left_cell_sequences = self.helperFunction(result, m,n-1)\n",
    "        return top_cell_sequences.union(left_cell_sequences)\n",
    "    \n",
    "    def get_all_subsequences_by_problem_type(self):\n",
    "        result = self.build_dp_table()\n",
    "        sequences = self.helperFunction(result, len(self.s1), len(self.s2))\n",
    "        return sequences\n",
    "    \n",
    "    def print_results(self):\n",
    "        print('Length of Longest {} Subsequence: {} and Sequences are : {}'.\n",
    "      format(self.problem_type, self.getLengthOfLongestSubSequence(),self.get_all_subsequences_by_problem_type()))\n",
    "    \n",
    "\n",
    "\n",
    "def reverse_string(s):\n",
    "    reverse_s = s[len(s)::-1] \n",
    "    return reverse_s\n",
    "    \n",
    "def main():\n",
    "    s1 = 'ylqpejqbalahwr'\n",
    "    s2 = 'yrkzavgdmdgtqpg'\n",
    "    common_subsequence = Subsequence(s1, s2,'common')\n",
    "    common_subsequence.print_results()\n",
    "    \n",
    "    s1 = 'ATACTCGGA'\n",
    "    s2 = 'ATACTCGGA'\n",
    "    repeated_subsequence = Subsequence(s1, s2,'repeated')\n",
    "    repeated_subsequence.print_results()\n",
    "    \n",
    "    # To get longest common palindromic subsequence\n",
    "    s = 'BBABCBCAB'\n",
    "    palindromic_subseq = Subsequence(s, reverse_string(s),'common')\n",
    "    print(\"Common Palindromic Sequences are: {}\".format(palindromic_subseq.get_all_subsequences_by_problem_type()))\n",
    "\n",
    "if __name__ == \"__main__\":\n",
    "    main()        \n",
    "    "
   ]
  },
  {
   "cell_type": "markdown",
   "metadata": {},
   "source": [
    "# Diff Utility"
   ]
  },
  {
   "cell_type": "code",
   "execution_count": 15,
   "metadata": {},
   "outputs": [
    {
     "name": "stdout",
     "output_type": "stream",
     "text": [
      "XMJ-YA-U+A+TZ"
     ]
    }
   ],
   "source": [
    "s1 = 'XMJYAUZ'\n",
    "s2 = 'XMJAATZ'\n",
    "common_subsequence = Subsequence(s1, s2,'common')\n",
    "dp_table = common_subsequence.build_dp_table()\n",
    "get_diff_utility(s1,s2)"
   ]
  },
  {
   "cell_type": "code",
   "execution_count": 14,
   "metadata": {},
   "outputs": [],
   "source": [
    "def get_diff_utility(s1, s2):\n",
    "    common_subsequence = Subsequence(s1, s2,'common')\n",
    "    dp_table = common_subsequence.build_dp_table()\n",
    "    diff_utility_helper(s1, s2, len(s1), len(s2), dp_table)\n",
    "    \n",
    "def diff_utility_helper(s1, s2, m, n, dp_table):\n",
    "    if(m > 0 and n > 0 and s1[m-1] == s2[n-1]):\n",
    "        diff_utility_helper(s1, s2,m-1, n-1, dp_table)\n",
    "        print(s1[m-1], end = '')\n",
    "    elif(n > 0 and (m == 0 or dp_table[m][n-1] >= dp_table[m-1][n])):\n",
    "        diff_utility_helper(s1, s2,m, n-1, dp_table)\n",
    "        print('+' + s2[n-1], end = '')\n",
    "    elif(m > 0 and (n == 0 or dp_table[m-1][n] >= dp_table[m][n-1])):\n",
    "        diff_utility_helper(s1, s2,m-1, n, dp_table)\n",
    "        print('-' + s1[m-1],end = '')\n",
    "    \n",
    "        \n",
    "    \n",
    "    "
   ]
  }
 ],
 "metadata": {
  "kernelspec": {
   "display_name": "Python 3",
   "language": "python",
   "name": "python3"
  },
  "language_info": {
   "codemirror_mode": {
    "name": "ipython",
    "version": 3
   },
   "file_extension": ".py",
   "mimetype": "text/x-python",
   "name": "python",
   "nbconvert_exporter": "python",
   "pygments_lexer": "ipython3",
   "version": "3.7.4"
  }
 },
 "nbformat": 4,
 "nbformat_minor": 2
}
